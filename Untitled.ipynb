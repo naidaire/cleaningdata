{
 "cells": [
  {
   "cell_type": "markdown",
   "metadata": {},
   "source": [
    "# Tidy Data\n",
    "\n",
    "Here, you'll learn about the principles of tidy data and more importantly, why you should care about them and how they make subsequent data analysis more efficient. You'll gain first hand experience with reshaping and tidying your data using techniques such as pivoting and melting.\n",
    "\n",
    "Hadley Wickham, PhD - formalized way to describe the shape of data. Tidy Data provides a standard way to organize data values within a dataset.  There are many reasons why a standard approach to cleaning data is good, and the Tidy Data paper is worth the read to better understand how the shape of data fits into the various components of data analysis.\n",
    "\n",
    "http://vita.had.co.nz/papers/tidy-data.html\n",
    "\n",
    "#### 3 Principles of Tidy Data\n",
    "- Columns represent separate variables\n",
    "- Rows represent individual observations\n",
    "- Observational units form tables (we won't cover this chapter)\n",
    "\n",
    "\n",
    "There are formats better for reporting.  And there are formats better for analysis.  If we aim to make our data tidy during the data cleaning process, we can fix common data problems along the way, and be able to quickly transform data into different shapes as needed.  \n",
    "\n",
    "Wickham defines the data problem we are trying to fix as columns containing values, isntead of variables.  \n",
    "- Pandas Melt function, pd.melt()\n",
    "- "
   ]
  },
  {
   "cell_type": "code",
   "execution_count": 3,
   "metadata": {},
   "outputs": [
    {
     "ename": "NameError",
     "evalue": "name 'pd' is not defined",
     "output_type": "error",
     "traceback": [
      "\u001b[0;31m---------------------------------------------------------------------------\u001b[0m",
      "\u001b[0;31mNameError\u001b[0m                                 Traceback (most recent call last)",
      "\u001b[0;32m<ipython-input-3-0a0003d69ff5>\u001b[0m in \u001b[0;36m<module>\u001b[0;34m()\u001b[0m\n\u001b[1;32m      6\u001b[0m \u001b[0;31m# value_name parameter changes the value name, so you have more meaningful column names\u001b[0m\u001b[0;34m\u001b[0m\u001b[0;34m\u001b[0m\u001b[0m\n\u001b[1;32m      7\u001b[0m \u001b[0;34m\u001b[0m\u001b[0m\n\u001b[0;32m----> 8\u001b[0;31m pd.melt(frame=df, id_vars='name',\n\u001b[0m\u001b[1;32m      9\u001b[0m         \u001b[0mvalue_vars\u001b[0m\u001b[0;34m=\u001b[0m\u001b[0;34m[\u001b[0m\u001b[0;34m'treament_a'\u001b[0m\u001b[0;34m,\u001b[0m \u001b[0;34m'treatment_b'\u001b[0m\u001b[0;34m]\u001b[0m\u001b[0;34m,\u001b[0m\u001b[0;34m\u001b[0m\u001b[0m\n\u001b[1;32m     10\u001b[0m         \u001b[0mvar_name\u001b[0m\u001b[0;34m=\u001b[0m\u001b[0;34m'treatment'\u001b[0m\u001b[0;34m,\u001b[0m\u001b[0;34m\u001b[0m\u001b[0m\n",
      "\u001b[0;31mNameError\u001b[0m: name 'pd' is not defined"
     ]
    }
   ],
   "source": [
    "# Specify Dataframe, \n",
    "# id_vars parameter - which columns to hold constant, Names of people will be fixed\n",
    "# Value_vars parameter - holds the variables\n",
    "# Output datafrae will have a Variable and a Value Column for each Name\n",
    "# var_name parameter changes the variable name\n",
    "# value_name parameter changes the value name, so you have more meaningful column names\n",
    "\n",
    "pd.melt(frame=df, id_vars='name',\n",
    "        value_vars=['treament_a', 'treatment_b'],\n",
    "        var_name='treatment', \n",
    "        value_name='result')"
   ]
  },
  {
   "cell_type": "code",
   "execution_count": null,
   "metadata": {
    "collapsed": true
   },
   "outputs": [],
   "source": []
  }
 ],
 "metadata": {
  "kernelspec": {
   "display_name": "Python 3",
   "language": "python",
   "name": "python3"
  },
  "language_info": {
   "codemirror_mode": {
    "name": "ipython",
    "version": 3
   },
   "file_extension": ".py",
   "mimetype": "text/x-python",
   "name": "python",
   "nbconvert_exporter": "python",
   "pygments_lexer": "ipython3",
   "version": "3.6.3"
  }
 },
 "nbformat": 4,
 "nbformat_minor": 2
}
